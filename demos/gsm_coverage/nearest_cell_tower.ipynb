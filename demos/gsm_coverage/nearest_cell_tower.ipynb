{
 "cells": [
  {
   "cell_type": "markdown",
   "metadata": {},
   "source": [
    "# Finding nearest cell tower"
   ]
  },
  {
   "cell_type": "code",
   "execution_count": 32,
   "metadata": {},
   "outputs": [],
   "source": [
    "from geopy.distance import geodesic\n",
    "import pandas as pd"
   ]
  },
  {
   "cell_type": "code",
   "execution_count": 3,
   "metadata": {},
   "outputs": [
    {
     "data": {
      "text/html": [
       "<div>\n",
       "<style scoped>\n",
       "    .dataframe tbody tr th:only-of-type {\n",
       "        vertical-align: middle;\n",
       "    }\n",
       "\n",
       "    .dataframe tbody tr th {\n",
       "        vertical-align: top;\n",
       "    }\n",
       "\n",
       "    .dataframe thead th {\n",
       "        text-align: right;\n",
       "    }\n",
       "</style>\n",
       "<table border=\"1\" class=\"dataframe\">\n",
       "  <thead>\n",
       "    <tr style=\"text-align: right;\">\n",
       "      <th></th>\n",
       "      <th>radio</th>\n",
       "      <th>mcc</th>\n",
       "      <th>net</th>\n",
       "      <th>area</th>\n",
       "      <th>cell</th>\n",
       "      <th>unit</th>\n",
       "      <th>lon</th>\n",
       "      <th>lat</th>\n",
       "      <th>range</th>\n",
       "      <th>samples</th>\n",
       "      <th>changeable</th>\n",
       "      <th>created</th>\n",
       "      <th>updated</th>\n",
       "      <th>averageSignal</th>\n",
       "    </tr>\n",
       "  </thead>\n",
       "  <tbody>\n",
       "    <tr>\n",
       "      <th>0</th>\n",
       "      <td>GSM</td>\n",
       "      <td>602</td>\n",
       "      <td>3</td>\n",
       "      <td>21333</td>\n",
       "      <td>25372</td>\n",
       "      <td>0</td>\n",
       "      <td>31.056510</td>\n",
       "      <td>29.998215</td>\n",
       "      <td>23897</td>\n",
       "      <td>10</td>\n",
       "      <td>1</td>\n",
       "      <td>1459715136</td>\n",
       "      <td>1465348064</td>\n",
       "      <td>0</td>\n",
       "    </tr>\n",
       "    <tr>\n",
       "      <th>1</th>\n",
       "      <td>UMTS</td>\n",
       "      <td>636</td>\n",
       "      <td>1</td>\n",
       "      <td>1601</td>\n",
       "      <td>6977357</td>\n",
       "      <td>0</td>\n",
       "      <td>39.777033</td>\n",
       "      <td>10.060619</td>\n",
       "      <td>18613</td>\n",
       "      <td>12</td>\n",
       "      <td>1</td>\n",
       "      <td>1459751568</td>\n",
       "      <td>1463394399</td>\n",
       "      <td>0</td>\n",
       "    </tr>\n",
       "    <tr>\n",
       "      <th>2</th>\n",
       "      <td>UMTS</td>\n",
       "      <td>636</td>\n",
       "      <td>1</td>\n",
       "      <td>1702</td>\n",
       "      <td>7307199</td>\n",
       "      <td>0</td>\n",
       "      <td>37.367935</td>\n",
       "      <td>11.646194</td>\n",
       "      <td>1000</td>\n",
       "      <td>1</td>\n",
       "      <td>1</td>\n",
       "      <td>1454722314</td>\n",
       "      <td>1454722314</td>\n",
       "      <td>0</td>\n",
       "    </tr>\n",
       "    <tr>\n",
       "      <th>3</th>\n",
       "      <td>UMTS</td>\n",
       "      <td>636</td>\n",
       "      <td>1</td>\n",
       "      <td>1105</td>\n",
       "      <td>6912218</td>\n",
       "      <td>0</td>\n",
       "      <td>38.838730</td>\n",
       "      <td>9.021835</td>\n",
       "      <td>1000</td>\n",
       "      <td>1</td>\n",
       "      <td>1</td>\n",
       "      <td>1456714860</td>\n",
       "      <td>1456714860</td>\n",
       "      <td>0</td>\n",
       "    </tr>\n",
       "    <tr>\n",
       "      <th>4</th>\n",
       "      <td>UMTS</td>\n",
       "      <td>636</td>\n",
       "      <td>1</td>\n",
       "      <td>1105</td>\n",
       "      <td>6912202</td>\n",
       "      <td>0</td>\n",
       "      <td>38.838230</td>\n",
       "      <td>9.014108</td>\n",
       "      <td>1370</td>\n",
       "      <td>13</td>\n",
       "      <td>1</td>\n",
       "      <td>1459751569</td>\n",
       "      <td>1584289858</td>\n",
       "      <td>0</td>\n",
       "    </tr>\n",
       "  </tbody>\n",
       "</table>\n",
       "</div>"
      ],
      "text/plain": [
       "  radio  mcc  net   area     cell  unit        lon        lat  range  samples  \\\n",
       "0   GSM  602    3  21333    25372     0  31.056510  29.998215  23897       10   \n",
       "1  UMTS  636    1   1601  6977357     0  39.777033  10.060619  18613       12   \n",
       "2  UMTS  636    1   1702  7307199     0  37.367935  11.646194   1000        1   \n",
       "3  UMTS  636    1   1105  6912218     0  38.838730   9.021835   1000        1   \n",
       "4  UMTS  636    1   1105  6912202     0  38.838230   9.014108   1370       13   \n",
       "\n",
       "   changeable     created     updated  averageSignal  \n",
       "0           1  1459715136  1465348064              0  \n",
       "1           1  1459751568  1463394399              0  \n",
       "2           1  1454722314  1454722314              0  \n",
       "3           1  1456714860  1456714860              0  \n",
       "4           1  1459751569  1584289858              0  "
      ]
     },
     "execution_count": 3,
     "metadata": {},
     "output_type": "execute_result"
    }
   ],
   "source": [
    "af_cell_twr_df = pd.read_csv(\n",
    "    \"./africa_cell_towers.csv\",\n",
    "    header=0,\n",
    "    sep=\",\",\n",
    "    encoding=\"UTF-8\"\n",
    "    )\n",
    "\n",
    "af_cell_twr_df.head()"
   ]
  },
  {
   "cell_type": "code",
   "execution_count": 46,
   "metadata": {},
   "outputs": [],
   "source": [
    "coords = [(lat, lon) for lat, lon in zip(af_cell_twr_df.lat, af_cell_twr_df.lon)]"
   ]
  },
  {
   "cell_type": "code",
   "execution_count": 47,
   "metadata": {},
   "outputs": [],
   "source": [
    "def closestCellTowerFromLocation(\n",
    "        origin_coordinates: tuple[float],\n",
    "        cell_towers_coordinates: list[tuple[float]]\n",
    "        ):\n",
    "    distances_to_cell_tower = [\n",
    "        geodesic(origin_coordinates, cell_tower_coordinates).m \n",
    "        for cell_tower_coordinates in cell_towers_coordinates\n",
    "    ]\n",
    "    minimal_distance = min(distances_to_cell_tower)\n",
    "    index_of_minimal_distance = distances_to_cell_tower.index(minimal_distance)\n",
    "    return(\n",
    "        cell_towers_coordinates[index_of_minimal_distance],\n",
    "        minimal_distance\n",
    "    )\n",
    "    "
   ]
  },
  {
   "cell_type": "code",
   "execution_count": 48,
   "metadata": {},
   "outputs": [
    {
     "data": {
      "text/plain": [
       "((5.7163238525391, 19.081192016602), 5781.2723046880965)"
      ]
     },
     "execution_count": 48,
     "metadata": {},
     "output_type": "execute_result"
    }
   ],
   "source": [
    "closestCellTowerFromLocation((5.74639, 19.12389), coords)"
   ]
  }
 ],
 "metadata": {
  "kernelspec": {
   "display_name": "cassini",
   "language": "python",
   "name": "python3"
  },
  "language_info": {
   "codemirror_mode": {
    "name": "ipython",
    "version": 3
   },
   "file_extension": ".py",
   "mimetype": "text/x-python",
   "name": "python",
   "nbconvert_exporter": "python",
   "pygments_lexer": "ipython3",
   "version": "3.11.5"
  }
 },
 "nbformat": 4,
 "nbformat_minor": 2
}
