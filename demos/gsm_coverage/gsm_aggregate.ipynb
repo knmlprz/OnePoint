{
 "cells": [
  {
   "cell_type": "markdown",
   "metadata": {},
   "source": [
    "# How do we get data of cell towers:"
   ]
  },
  {
   "cell_type": "code",
   "execution_count": 2,
   "metadata": {},
   "outputs": [],
   "source": [
    "import polars as pl"
   ]
  },
  {
   "cell_type": "markdown",
   "metadata": {},
   "source": [
    "This data comes from opencellid - an open database that contains information about cell towers.\n",
    "Each country has a Mobile Country Code (MCC), where the first digit indicates the continent. In this case, we only designate African countries so the value is 6 and the code looks like 6XX"
   ]
  },
  {
   "cell_type": "code",
   "execution_count": 7,
   "metadata": {},
   "outputs": [],
   "source": [
    "plan = pl.scan_csv(\n",
    "    r\"./cell_towers_2023-11-04-T000000.csv\",\n",
    "    has_header=True\n",
    ").filter(\n",
    "    pl.col(\"mcc\").is_between(600, 699, closed=\"both\")\n",
    ")"
   ]
  },
  {
   "cell_type": "code",
   "execution_count": 9,
   "metadata": {},
   "outputs": [],
   "source": [
    "africa_cells = plan.collect()"
   ]
  },
  {
   "cell_type": "code",
   "execution_count": 10,
   "metadata": {},
   "outputs": [
    {
     "data": {
      "text/html": [
       "<div><style>\n",
       ".dataframe > thead > tr > th,\n",
       ".dataframe > tbody > tr > td {\n",
       "  text-align: right;\n",
       "  white-space: pre-wrap;\n",
       "}\n",
       "</style>\n",
       "<small>shape: (5, 14)</small><table border=\"1\" class=\"dataframe\"><thead><tr><th>radio</th><th>mcc</th><th>net</th><th>area</th><th>cell</th><th>unit</th><th>lon</th><th>lat</th><th>range</th><th>samples</th><th>changeable</th><th>created</th><th>updated</th><th>averageSignal</th></tr><tr><td>str</td><td>i64</td><td>i64</td><td>i64</td><td>i64</td><td>i64</td><td>f64</td><td>f64</td><td>i64</td><td>i64</td><td>i64</td><td>i64</td><td>i64</td><td>i64</td></tr></thead><tbody><tr><td>&quot;GSM&quot;</td><td>214</td><td>1</td><td>55772</td><td>60022</td><td>0</td><td>-15.507516</td><td>28.142461</td><td>10010</td><td>107</td><td>1</td><td>1293193620</td><td>1320388961</td><td>0</td></tr><tr><td>&quot;GSM&quot;</td><td>214</td><td>1</td><td>55772</td><td>61001</td><td>0</td><td>-15.455018</td><td>28.137774</td><td>4121</td><td>10</td><td>1</td><td>1293175811</td><td>1293175811</td><td>0</td></tr><tr><td>&quot;GSM&quot;</td><td>214</td><td>1</td><td>55772</td><td>60904</td><td>0</td><td>-15.430069</td><td>28.139038</td><td>1601</td><td>18</td><td>1</td><td>1293195649</td><td>1319891960</td><td>0</td></tr><tr><td>&quot;UMTS&quot;</td><td>214</td><td>1</td><td>55772</td><td>50185093</td><td>0</td><td>-15.426865</td><td>28.153152</td><td>1000</td><td>5</td><td>1</td><td>1293181787</td><td>1293181787</td><td>0</td></tr><tr><td>&quot;UMTS&quot;</td><td>214</td><td>1</td><td>55772</td><td>50185115</td><td>0</td><td>-15.426865</td><td>28.153152</td><td>1000</td><td>1</td><td>1</td><td>1293176404</td><td>1293176404</td><td>0</td></tr></tbody></table></div>"
      ],
      "text/plain": [
       "shape: (5, 14)\n",
       "┌───────┬─────┬─────┬───────┬───┬────────────┬────────────┬────────────┬───────────────┐\n",
       "│ radio ┆ mcc ┆ net ┆ area  ┆ … ┆ changeable ┆ created    ┆ updated    ┆ averageSignal │\n",
       "│ ---   ┆ --- ┆ --- ┆ ---   ┆   ┆ ---        ┆ ---        ┆ ---        ┆ ---           │\n",
       "│ str   ┆ i64 ┆ i64 ┆ i64   ┆   ┆ i64        ┆ i64        ┆ i64        ┆ i64           │\n",
       "╞═══════╪═════╪═════╪═══════╪═══╪════════════╪════════════╪════════════╪═══════════════╡\n",
       "│ GSM   ┆ 214 ┆ 1   ┆ 55772 ┆ … ┆ 1          ┆ 1293193620 ┆ 1320388961 ┆ 0             │\n",
       "│ GSM   ┆ 214 ┆ 1   ┆ 55772 ┆ … ┆ 1          ┆ 1293175811 ┆ 1293175811 ┆ 0             │\n",
       "│ GSM   ┆ 214 ┆ 1   ┆ 55772 ┆ … ┆ 1          ┆ 1293195649 ┆ 1319891960 ┆ 0             │\n",
       "│ UMTS  ┆ 214 ┆ 1   ┆ 55772 ┆ … ┆ 1          ┆ 1293181787 ┆ 1293181787 ┆ 0             │\n",
       "│ UMTS  ┆ 214 ┆ 1   ┆ 55772 ┆ … ┆ 1          ┆ 1293176404 ┆ 1293176404 ┆ 0             │\n",
       "└───────┴─────┴─────┴───────┴───┴────────────┴────────────┴────────────┴───────────────┘"
      ]
     },
     "execution_count": 10,
     "metadata": {},
     "output_type": "execute_result"
    }
   ],
   "source": [
    "africa_cells.head()"
   ]
  },
  {
   "cell_type": "code",
   "execution_count": null,
   "metadata": {},
   "outputs": [],
   "source": [
    "africa_cells.write_csv(\n",
    "    \"africa_cell_towers.csv\",\n",
    "    has_header=True,\n",
    "    separator=\",\",\n",
    ")"
   ]
  }
 ],
 "metadata": {
  "kernelspec": {
   "display_name": "cassini",
   "language": "python",
   "name": "python3"
  },
  "language_info": {
   "codemirror_mode": {
    "name": "ipython",
    "version": 3
   },
   "file_extension": ".py",
   "mimetype": "text/x-python",
   "name": "python",
   "nbconvert_exporter": "python",
   "pygments_lexer": "ipython3",
   "version": "3.11.5"
  }
 },
 "nbformat": 4,
 "nbformat_minor": 2
}
