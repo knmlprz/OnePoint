{
 "cells": [
  {
   "cell_type": "markdown",
   "id": "19fe967b-ff5e-4a6d-9f67-98e095e9ac47",
   "metadata": {},
   "source": [
    "# Fire detection and fire-prone places\n",
    "\n",
    "Knowledge about fire occurrences is crucial for NGOs it helps in faster responding to events. Aim of this notebook is to develop a base for future development of solutions for prognosis of such events.\n",
    "\n",
    "Detecting fire-prone places will work on historical data. It will check how often wildfires occurs on selected area.\n",
    "https://github.com/satellite-image-deep-learning/techniques\n",
    "Sources:\n",
    "- https://firms.modaps.eosdis.nasa.gov/\n",
    "- sentinel 2"
   ]
  },
  {
   "cell_type": "markdown",
   "id": "3666edef-067b-42a1-8aaa-f6fccf61bee7",
   "metadata": {},
   "source": [
    "# Proof of concept"
   ]
  },
  {
   "cell_type": "code",
   "execution_count": 2,
   "id": "7f43e52f-1bdf-447d-aa55-8e2160032b0b",
   "metadata": {},
   "outputs": [
    {
     "name": "stdout",
     "output_type": "stream",
     "text": [
      "1/1 [==============================] - 0s 71ms/step\n",
      "fire\n"
     ]
    }
   ],
   "source": [
    "from keras.models import load_model\n",
    "\n",
    "classifier = load_model('classifier.h5')\n",
    "\n",
    "import numpy as np\n",
    "from keras.preprocessing import image\n",
    "import matplotlib.pyplot as plt\n",
    "\n",
    "test_image = image.load_img('sentinel2-fire.jpg', target_size = (64, 64))\n",
    "test_image = image.img_to_array(test_image)\n",
    "test_image = np.expand_dims(test_image, axis = 0)\n",
    "result = classifier.predict(test_image)\n",
    "\n",
    "if result[0][0] == 1:\n",
    "  prediction = 'notfire'\n",
    "else:\n",
    "  prediction = 'fire'\n",
    "print(prediction)\n"
   ]
  }
 ],
 "metadata": {
  "kernelspec": {
   "display_name": "Python 3 (ipykernel)",
   "language": "python",
   "name": "python3"
  },
  "language_info": {
   "codemirror_mode": {
    "name": "ipython",
    "version": 3
   },
   "file_extension": ".py",
   "mimetype": "text/x-python",
   "name": "python",
   "nbconvert_exporter": "python",
   "pygments_lexer": "ipython3",
   "version": "3.11.5"
  }
 },
 "nbformat": 4,
 "nbformat_minor": 5
}
