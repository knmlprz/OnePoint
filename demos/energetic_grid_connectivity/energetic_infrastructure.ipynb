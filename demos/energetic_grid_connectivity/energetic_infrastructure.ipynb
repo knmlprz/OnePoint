{
 "cells": [
  {
   "cell_type": "markdown",
   "metadata": {},
   "source": [
    "# Eksploracja sieci elektrycznej Afryki"
   ]
  },
  {
   "cell_type": "markdown",
   "metadata": {},
   "source": [
    "Strona internetowa <https://africagrid.energydata.info/> pozwala na wgląd do danych na temat sieci elektrycznej Afryki. Dostępne są też informacje dotyczące mocy danej gałęzi oraz planowane rozbudowy."
   ]
  },
  {
   "cell_type": "markdown",
   "metadata": {},
   "source": [
    "## Spis danych w formacie pozwalającym na analizę\n",
    "\n",
    "[The World Bank](https://datacatalog.worldbank.org/search/dataset/0040465/Africa---Electricity-Transmission-and-Distribution-Grid-Map) udostępnia dane o infrastrukturze energetycznej w formacie pozwalającym na wykorzystanie ich do analizy dostępu do energii elektrycznej na podstawie lokalizacji miejscowości."
   ]
  }
 ],
 "metadata": {
  "kernelspec": {
   "display_name": "cassini",
   "language": "python",
   "name": "python3"
  },
  "language_info": {
   "codemirror_mode": {
    "name": "ipython",
    "version": 3
   },
   "file_extension": ".py",
   "mimetype": "text/x-python",
   "name": "python",
   "nbconvert_exporter": "python",
   "pygments_lexer": "ipython3",
   "version": "3.10.13"
  }
 },
 "nbformat": 4,
 "nbformat_minor": 2
}
