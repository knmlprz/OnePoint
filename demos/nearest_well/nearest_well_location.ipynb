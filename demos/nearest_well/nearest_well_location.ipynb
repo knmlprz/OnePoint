{
 "cells": [
  {
   "cell_type": "code",
   "execution_count": 1,
   "metadata": {},
   "outputs": [],
   "source": [
    "from zipfile import ZipFile\n",
    "\n",
    "kmz = ZipFile('Functional Pumps.kmz', 'r')\n",
    "kml = kmz.open('doc.kml', 'r').read()"
   ]
  },
  {
   "cell_type": "markdown",
   "metadata": {},
   "source": [
    "# Badanie dostępu do wody pitnej\n",
    "\n",
    "Jednym z najważniejszych obszarów pomocy humaniternej m.in. w Afryce to zapewnianie dostępu do czystej wody pitnej. Niektóre organizacje zajmujące się utrzymywaniem studni słodkowodnych, takie jak [Water For Good](https://waterforgood.org/well-map/) udostępniają mapy zawierające informacje o punktach dostępu do wody, którymi się zajmują. W przypadku braku takich informacji można zastosować algorytmy detekcji obiektów, aby znaleźć studnie na zdjęciach satelitarnych."
   ]
  },
  {
   "cell_type": "code",
   "execution_count": 2,
   "metadata": {},
   "outputs": [],
   "source": [
    "from lxml import html\n",
    "\n",
    "doc = html.fromstring(kml)"
   ]
  },
  {
   "cell_type": "markdown",
   "metadata": {},
   "source": [
    "## Przetwarzanie danych lokalizacyjnych studni"
   ]
  },
  {
   "cell_type": "markdown",
   "metadata": {},
   "source": [
    "Plik KMZ zawiera dane w formacie punktów o pewnych współrzędnych geograficznych. W naszym przypadku plik zawiera wyłącznie lokalizacje studni, które zapisujemy do listy."
   ]
  },
  {
   "cell_type": "code",
   "execution_count": 3,
   "metadata": {},
   "outputs": [],
   "source": [
    "def parseKMZFile(kmz_file_path: str) -> list:\n",
    "    \"\"\"\n",
    "    Parses Google My Maps KMZ file into a list of pointmarks.\n",
    "    \n",
    "    Parameters\n",
    "    ---\n",
    "    - `kmz_file_path` - path to KMZ file to be analyzed.\n",
    "\n",
    "    Returns\n",
    "    ---\n",
    "    A list of placemark coordinates in `[latitude, longitude]` format\n",
    "    \"\"\"\n",
    "\n",
    "    unpacked_kmz = ZipFile('Functional Pumps.kmz', 'r')\n",
    "    map_point_data = unpacked_kmz.open('doc.kml', 'r').read()\n",
    "    map_point_data_parsed = html.fromstring(map_point_data)\n",
    "\n",
    "    wells_coordinates = []\n",
    "\n",
    "    for placemark_coordinate in map_point_data_parsed.cssselect(\"Document Placemark Point\"):\n",
    "        well_coordinates_raw = placemark_coordinate.text_content()\n",
    "        well_coordinates_split = well_coordinates_raw.split(',')\n",
    "        well_coordinates = (\n",
    "        float(well_coordinates_split[1].strip()),\n",
    "        float(well_coordinates_split[0].strip())\n",
    "    )\n",
    "        wells_coordinates.append(well_coordinates)\n",
    "    return wells_coordinates"
   ]
  },
  {
   "cell_type": "markdown",
   "metadata": {},
   "source": [
    "# Znajdowanie dystansu od najbliższej studni"
   ]
  },
  {
   "cell_type": "code",
   "execution_count": 8,
   "metadata": {},
   "outputs": [],
   "source": [
    "from geopy.distance import distance\n",
    "\n",
    "def closestWellFromLocation(origin_coordinates: float, wells_coordinates: list) -> tuple:\n",
    "    \"\"\"\n",
    "    Returns the position of the well that is closest to origin point and distance between them.\n",
    "\n",
    "    All coordinates should be in `[latitude, longitude]` format.\n",
    "    \"\"\"\n",
    "    distances_to_wells = [\n",
    "        distance(origin_coordinates, well_coordinates).m for well_coordinates in wells_coordinates\n",
    "    ]\n",
    "    minimal_distance = min(distances_to_wells)\n",
    "    index_of_the_closest_well = distances_to_wells.index(minimal_distance)\n",
    "    closest_well_coordinates = wells_coordinates[index_of_the_closest_well]\n",
    "    return(\n",
    "        closest_well_coordinates,\n",
    "        minimal_distance\n",
    "    )"
   ]
  },
  {
   "cell_type": "code",
   "execution_count": 9,
   "metadata": {},
   "outputs": [
    {
     "name": "stdout",
     "output_type": "stream",
     "text": [
      "The closest water well is at lat 5.734811, lon 19.129088; the distance to it is approx. 1404m\n"
     ]
    }
   ],
   "source": [
    "random_point_near_wells = [5.74639, 19.12389]\n",
    "\n",
    "wells_coordinates = parseKMZFile('Functional Pumps.kmz')\n",
    "\n",
    "closest_well_coordinates, distance_to_well = closestWellFromLocation(random_point_near_wells, wells_coordinates)\n",
    "closest_well_latitude, closest_well_longitude = closest_well_coordinates\n",
    "distance_to_well = round(distance_to_well)\n",
    "\n",
    "print(f\"The closest water well is at lat {closest_well_latitude}, lon {closest_well_longitude}; the distance to it is approx. {distance_to_well}m\")"
   ]
  }
 ],
 "metadata": {
  "kernelspec": {
   "display_name": "cassini",
   "language": "python",
   "name": "python3"
  },
  "language_info": {
   "codemirror_mode": {
    "name": "ipython",
    "version": 3
   },
   "file_extension": ".py",
   "mimetype": "text/x-python",
   "name": "python",
   "nbconvert_exporter": "python",
   "pygments_lexer": "ipython3",
   "version": "3.10.13"
  }
 },
 "nbformat": 4,
 "nbformat_minor": 2
}
