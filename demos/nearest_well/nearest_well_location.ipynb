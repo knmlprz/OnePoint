{
 "cells": [
  {
   "cell_type": "code",
   "execution_count": 2,
   "metadata": {},
   "outputs": [],
   "source": [
    "from zipfile import ZipFile\n",
    "\n",
    "kmz = ZipFile('Functional Pumps.kmz', 'r')\n",
    "kml = kmz.open('doc.kml', 'r').read()"
   ]
  },
  {
   "cell_type": "code",
   "execution_count": null,
   "metadata": {},
   "outputs": [],
   "source": [
    "from lxml import html\n",
    "\n",
    "doc = html.fromstring(kml)"
   ]
  },
  {
   "cell_type": "markdown",
   "metadata": {},
   "source": [
    "# Znajdowanie dystansu od najbliższej studni"
   ]
  },
  {
   "cell_type": "code",
   "execution_count": 15,
   "metadata": {},
   "outputs": [],
   "source": [
    "from geopy.distance import distance\n",
    "\n",
    "def parseKMZFile(kmz_file_path: str) -> list:\n",
    "    \"\"\"\n",
    "    Parses Google My Maps KMZ file into a list of pointmarks.\n",
    "    \n",
    "    Parameters\n",
    "    ---\n",
    "    - `kmz_file_path` - path to KMZ file to be analyzed.\n",
    "\n",
    "    Returns\n",
    "    ---\n",
    "    A list of placemark coordinates in `[latitude, longitude]` format\n",
    "    \"\"\"\n",
    "\n",
    "    kmz = ZipFile('Functional Pumps.kmz', 'r')\n",
    "    kml = kmz.open('doc.kml', 'r').read()\n",
    "    doc = html.fromstring(kml)\n",
    "\n",
    "    wells_coordinates = []\n",
    "\n",
    "    for placemark_coordinate in doc.cssselect(\"Document Placemark Point\"):\n",
    "        well_coordinates_raw: str = placemark_coordinate.text_content()\n",
    "        well_coordinates_split = well_coordinates_raw.split(',')\n",
    "        well_coordinates = (\n",
    "        float(well_coordinates_split[1].strip()),\n",
    "        float(well_coordinates_split[0].strip())\n",
    "    )\n",
    "        wells_coordinates.append(well_coordinates)\n",
    "    return wells_coordinates\n",
    "\n",
    "def closestWellFromLocation(origin_coordinates: float, wells_coordinates: list) -> tuple:\n",
    "    \"\"\"\n",
    "    Returns the position of the well that is closest to origin point and distance between them.\n",
    "\n",
    "    All coordinates should be in `[latitude, longitude]` format.\n",
    "    \"\"\"\n",
    "    distances_to_wells = [\n",
    "        distance(origin_coordinates, well_coordinates).m for well_coordinates in wells_coordinates\n",
    "    ]\n",
    "    minimal_distance = min(distances_to_wells)\n",
    "    index_of_the_closest_well = distances_to_wells.index(minimal_distance)\n",
    "    return(\n",
    "        wells_coordinates[index_of_the_closest_well],\n",
    "        minimal_distance\n",
    "    )"
   ]
  },
  {
   "cell_type": "code",
   "execution_count": 17,
   "metadata": {},
   "outputs": [
    {
     "name": "stdout",
     "output_type": "stream",
     "text": [
      "((5.734811, 19.129088), 1403.9564923898183)\n"
     ]
    }
   ],
   "source": [
    "random_point_near_wells = [5.74639, 19.12389]\n",
    "\n",
    "wells_coordinates = parseKMZFile('Functional Pumps.kmz')\n",
    "\n",
    "print(closestWellFromLocation(random_point_near_wells, wells_coordinates))"
   ]
  },
  {
   "cell_type": "code",
   "execution_count": 19,
   "metadata": {},
   "outputs": [
    {
     "data": {
      "text/plain": [
       "((5.735001, 19.141562), 1280.3611485467688)"
      ]
     },
     "execution_count": 19,
     "metadata": {},
     "output_type": "execute_result"
    }
   ],
   "source": [
    "closestWellFromLocation([5.74472, 19.13528], wells_coordinates)"
   ]
  },
  {
   "cell_type": "code",
   "execution_count": null,
   "metadata": {},
   "outputs": [],
   "source": []
  }
 ],
 "metadata": {
  "kernelspec": {
   "display_name": "cassini",
   "language": "python",
   "name": "python3"
  },
  "language_info": {
   "codemirror_mode": {
    "name": "ipython",
    "version": 3
   },
   "file_extension": ".py",
   "mimetype": "text/x-python",
   "name": "python",
   "nbconvert_exporter": "python",
   "pygments_lexer": "ipython3",
   "version": "3.10.13"
  }
 },
 "nbformat": 4,
 "nbformat_minor": 2
}
